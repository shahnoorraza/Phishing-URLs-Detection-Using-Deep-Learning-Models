{
  "nbformat": 4,
  "nbformat_minor": 0,
  "metadata": {
    "colab": {
      "provenance": [],
      "authorship_tag": "ABX9TyOEWB6MKDYCxUD+Sl49CSKw",
      "include_colab_link": true
    },
    "kernelspec": {
      "name": "python3",
      "display_name": "Python 3"
    },
    "language_info": {
      "name": "python"
    }
  },
  "cells": [
    {
      "cell_type": "markdown",
      "metadata": {
        "id": "view-in-github",
        "colab_type": "text"
      },
      "source": [
        "<a href=\"https://colab.research.google.com/github/shahnoorraza/Phishing-URLs-Detection-Using-Deep-Learning-Models/blob/main/Models.ipynb\" target=\"_parent\"><img src=\"https://colab.research.google.com/assets/colab-badge.svg\" alt=\"Open In Colab\"/></a>"
      ]
    },
    {
      "cell_type": "markdown",
      "source": [
        "## **Model Architecture**"
      ],
      "metadata": {
        "id": "cgSodzmK9stJ"
      }
    },
    {
      "cell_type": "markdown",
      "source": [
        "## **BiLSTM**"
      ],
      "metadata": {
        "id": "83ATeU4L964a"
      }
    },
    {
      "cell_type": "code",
      "source": [
        "model_biLSTM_4 = Sequential()\n",
        "model_biLSTM_4.add(Embedding(input_dim=vocab_size, output_dim=300, weights=[embedding_matrix], input_length=max_len3, trainable=False))\n",
        "model_biLSTM_4.add(Dropout(0.3))\n",
        "model_biLSTM_4.add(Bidirectional(LSTM(64, return_sequences=True)))\n",
        "model_biLSTM_4.add(Bidirectional(LSTM(32, return_sequences=True)))\n",
        "model_biLSTM_4.add(Bidirectional(LSTM(16, return_sequences=False)))\n",
        "model_biLSTM_4.add(Dense(64, activation=\"relu\"))\n",
        "model_biLSTM_4.add(Dropout(0.3))\n",
        "model_biLSTM_4.add(Dense(1, activation = \"sigmoid\"))\n",
        "\n",
        "# Compiling the model\n",
        "model_biLSTM_4.compile(optimizer='adam', loss='binary_crossentropy', metrics=['accuracy'])\n",
        "\n",
        "# Callbacks for Model Checkpoint and Early Stopping\n",
        "checkpoint4 = ModelCheckpoint('/content/drive/MyDrive/models/bilstm/bilstm_4.h5', monitor='accuracy', save_best_only=True, mode='min')\n",
        "early_stopping4 = EarlyStopping(monitor='val_loss', patience=5, mode='min', restore_best_weights=True)\n",
        "model_biLSTM_4.summary()"
      ],
      "metadata": {
        "id": "OYkMeEYI9w85"
      },
      "execution_count": null,
      "outputs": []
    },
    {
      "cell_type": "code",
      "source": [
        "history4 = model_biLSTM_4.fit(X_train, y_train, epochs=30, batch_size=128, validation_split=0.2, callbacks=[checkpoint4, early_stopping4],verbose=1)"
      ],
      "metadata": {
        "id": "Z5ggBnnh9-LN"
      },
      "execution_count": null,
      "outputs": []
    },
    {
      "cell_type": "code",
      "source": [
        "y_pred_prob = model_biLSTM_4.predict(X_val).ravel()\n",
        "y_pred = (y_pred_prob > 0.5).astype(int)\n",
        "plot_model(model_biLSTM_4, to_file='model_plot.png', show_shapes=True, show_layer_names=True)"
      ],
      "metadata": {
        "id": "_UPHWCpS-xEx"
      },
      "execution_count": null,
      "outputs": []
    },
    {
      "cell_type": "markdown",
      "source": [
        "## **BiGRU**"
      ],
      "metadata": {
        "id": "gdWaVuZD-CI6"
      }
    },
    {
      "cell_type": "code",
      "source": [
        "model_bigru_5 = Sequential()\n",
        "model_bigru_5.add(Embedding(input_dim=vocab_size, output_dim=300, weights=[embedding_matrix], input_length=max_len3, trainable=False))\n",
        "model_bigru_5.add(Dropout(0.3))\n",
        "model_bigru_5.add(Bidirectional(GRU(units = 128, return_sequences = True)))\n",
        "model_bigru_5.add(BatchNormalization())\n",
        "model_bigru_5.add(Dropout(0.3))\n",
        "model_bigru_5.add(Bidirectional(GRU(units = 64, return_sequences = True)))\n",
        "model_bigru_5.add(BatchNormalization())\n",
        "\n",
        "model_bigru_5.add(Dropout(0.3))\n",
        "model_bigru_5.add(Bidirectional(GRU(units = 32)))\n",
        "model_bigru_5.add(BatchNormalization())\n",
        "\n",
        "model_bigru_5.add(Dense(1, activation = 'sigmoid'))\n",
        "\n",
        "# Compiling the model\n",
        "\n",
        "model_bigru_5.compile(optimizer='adam', loss='binary_crossentropy', metrics=['accuracy'])\n",
        "\n",
        "# Callbacks for Model Checkpoint and Early Stopping\n",
        "checkpoint5= ModelCheckpoint('/content/drive/MyDrive/thesis/bigru/bigru_5.h5', monitor='accuracy', save_best_only=True, mode='min')\n",
        "early_stopping5 = EarlyStopping(monitor='val_loss', patience=5, mode='min', restore_best_weights=True)\n",
        "model_bigru_5.summary()"
      ],
      "metadata": {
        "id": "6yBhLdCh-Mlj"
      },
      "execution_count": null,
      "outputs": []
    },
    {
      "cell_type": "code",
      "source": [
        "history5 = model_bigru_5.fit(X_train, y_train, epochs=30, batch_size=128, validation_split=0.2, callbacks=[checkpoint5, early_stopping5],verbose=1)"
      ],
      "metadata": {
        "id": "pDwqqqk7-Nm3"
      },
      "execution_count": null,
      "outputs": []
    },
    {
      "cell_type": "code",
      "source": [
        "y_pred5 = (model_bigru_5.predict(X_test) > 0.5).astype(\"int32\")\n",
        "plot_model(model_bigru_5, to_file='model_plot.png', show_shapes=True, show_layer_names=True)"
      ],
      "metadata": {
        "id": "2PaKNjEA-ReI"
      },
      "execution_count": null,
      "outputs": []
    },
    {
      "cell_type": "markdown",
      "source": [
        "## **CNN Model**"
      ],
      "metadata": {
        "id": "GWLmLem9-zX8"
      }
    },
    {
      "cell_type": "code",
      "source": [
        "model_cnn_simple13 = Sequential()\n",
        "model_cnn_simple13.add(Embedding(input_dim=vocab_size, output_dim=300, weights=[embedding_matrix], input_length=max_len3, trainable=False))\n",
        "model_cnn_simple13.add(Dropout(0.3))\n",
        "model_cnn_simple13.add(Conv1D(filters=128, kernel_size=4, padding='same', activation='relu'))\n",
        "model_cnn_simple13.add(MaxPooling1D(pool_size=3))\n",
        "\n",
        "\n",
        "model_cnn_simple13.add(Conv1D(filters=64, kernel_size=4, padding='same', activation='relu'))\n",
        "model_cnn_simple13.add(MaxPooling1D(pool_size=3))\n",
        "\n",
        "\n",
        "model_cnn_simple13.add(Conv1D(filters=32, kernel_size=4, padding='same', activation='relu'))\n",
        "model_cnn_simple13.add(MaxPooling1D(pool_size=3))\n",
        "\n",
        "\n",
        "model_cnn_simple13.add(Flatten())\n",
        "model_cnn_simple13.add(Dense(256, activation='relu'))\n",
        "model_cnn_simple12.add(Dropout(0.3))\n",
        "model_cnn_simple13.add(Dense(1, activation='sigmoid'))\n",
        "\n",
        "model_cnn_simple13.compile(loss='binary_crossentropy', optimizer='adam', metrics=['accuracy'])\n",
        "\n",
        "\n",
        "# Callbacks for Model Checkpoint and Early Stopping\n",
        "checkpoint13= ModelCheckpoint('/content/drive/MyDrive/models/change_simplecnn300_13_model.h5', monitor='val_loss', save_best_only=True, mode='min')\n",
        "early_stoppi1ng13 = EarlyStopping(monitor='val_loss', patience=8, mode='min', restore_best_weights=True)\n",
        "model_cnn_simple13.summary()"
      ],
      "metadata": {
        "id": "MB3LOzvC_dIa"
      },
      "execution_count": null,
      "outputs": []
    },
    {
      "cell_type": "code",
      "source": [
        "history_comq13 = model_cnn_simple13.fit(X_train, y_train, epochs = 30, validation_split=0.2, batch_size=128, callbacks=[checkpoint13, early_stoppi1ng13])"
      ],
      "metadata": {
        "id": "RHQEyTPa_eC9"
      },
      "execution_count": null,
      "outputs": []
    },
    {
      "cell_type": "code",
      "source": [
        "# Model Testing\n",
        "y_pred_com13 = (model_cnn_simple13.predict(X_test) > 0.5).astype(\"int32\")\n",
        "plot_model(model_cnn_simple13, to_file='model_plot.png', show_shapes=True, show_layer_names=True)"
      ],
      "metadata": {
        "id": "vSf54GJQ_gvI"
      },
      "execution_count": null,
      "outputs": []
    },
    {
      "cell_type": "markdown",
      "source": [
        "## **LSTM**"
      ],
      "metadata": {
        "id": "ksKSyvXr_jw7"
      }
    },
    {
      "cell_type": "code",
      "source": [
        "model_LSTM_11 = Sequential()\n",
        "model_LSTM_11.add(Embedding(input_dim=vocab_size, output_dim=300, weights=[embedding_matrix], input_length=max_len3, trainable=False))\n",
        "model_LSTM_11.add(Dropout(0.3))\n",
        "model_LSTM_11.add(LSTM(128, return_sequences=True))\n",
        "model_LSTM_11.add(LSTM(128, return_sequences=True))\n",
        "model_LSTM_11.add(LSTM(128, return_sequences=False))\n",
        "model_LSTM_11.add(Dropout(0.3))\n",
        "model_LSTM_11.add(Dense(1, activation = \"sigmoid\"))\n",
        "# Compiling the model\n",
        "model_LSTM_11.compile(optimizer='adam', loss='binary_crossentropy', metrics=['accuracy'])\n",
        "\n",
        "# Callbacks for Model Checkpoint and Early Stopping\n",
        "checkpoint11 = ModelCheckpoint('/content/drive/MyDrive/model_03/simple_lstm2.h5', monitor='accuracy', save_best_only=True, mode='min')\n",
        "early_stopping11 = EarlyStopping(monitor='val_loss', patience=5, mode='min', restore_best_weights=True)\n",
        "model_LSTM_11.summary()"
      ],
      "metadata": {
        "id": "1JxmhJD2_ubg"
      },
      "execution_count": null,
      "outputs": []
    },
    {
      "cell_type": "code",
      "source": [
        "history11 = model_LSTM_11.fit(X_train, y_train, epochs=30, batch_size=128, validation_split=0.2, callbacks=[checkpoint11, early_stopping11],verbose=1)"
      ],
      "metadata": {
        "id": "ff6CX4C8AFVb"
      },
      "execution_count": null,
      "outputs": []
    },
    {
      "cell_type": "code",
      "source": [
        "y_pred11 = (model_LSTM_11.predict(X_test) > 0.5).astype(\"int32\")\n",
        "plot_model(model_LSTM_11, to_file='model_plot.png', show_shapes=True, show_layer_names=True)"
      ],
      "metadata": {
        "id": "hic49yYUAH7G"
      },
      "execution_count": null,
      "outputs": []
    },
    {
      "cell_type": "markdown",
      "source": [
        "## **GRU**"
      ],
      "metadata": {
        "id": "7oOinxuZALbn"
      }
    },
    {
      "cell_type": "code",
      "source": [
        "model_gru_3 = Sequential()\n",
        "model_gru_3.add(Embedding(input_dim=vocab_size, output_dim=300, weights=[embedding_matrix], input_length=max_len3, trainable=False))\n",
        "model_gru_3.add(Dropout(0.3))\n",
        "model_gru_3.add(GRU(128, return_sequences=True))\n",
        "\n",
        "model_gru_3.add(Dropout(0.3))\n",
        "\n",
        "    # Second layer GRU\n",
        "model_gru_3.add(GRU(64, return_sequences=True))\n",
        "model_gru_3.add(Dropout(0.3))\n",
        "\n",
        "    # Dense layers\n",
        "model_gru_3.add(Dense(256, activation='relu'))\n",
        "model_gru_3.add(GlobalMaxPooling1D())\n",
        "model_gru_3.add(Dropout(0.3))\n",
        "\n",
        "    # Output layer\n",
        "model_gru_3.add(Dense(1, activation='sigmoid'))\n",
        "\n",
        "\n",
        "\n",
        "# Compiling the model\n",
        "model_gru_3.compile(optimizer='adam', loss='binary_crossentropy', metrics=['accuracy'])\n",
        "\n",
        "# Callbacks for Model Checkpoint and Early Stopping\n",
        "checkpoint3= ModelCheckpoint('/content/drive/MyDrive/thesis_op/gru/gru_3.h5', monitor='accuracy', save_best_only=True, mode='min')\n",
        "early_stopping3 = EarlyStopping(monitor='val_loss', patience=5, mode='min', restore_best_weights=True)\n",
        "model_gru_3.summary()"
      ],
      "metadata": {
        "id": "vx8dIOUAAXP8"
      },
      "execution_count": null,
      "outputs": []
    },
    {
      "cell_type": "code",
      "source": [
        "history3 = model_gru_3.fit(X_train, y_train, epochs=30, batch_size=128, validation_split=0.2, callbacks=[checkpoint3, early_stopping3],verbose=1)"
      ],
      "metadata": {
        "id": "WZMQv7M6AYG_"
      },
      "execution_count": null,
      "outputs": []
    },
    {
      "cell_type": "code",
      "source": [
        "y_pred3 = (model_gru_3.predict(X_test) > 0.5).astype(\"int32\")\n",
        "plot_model(model_gru_3, to_file='model_plot.png', show_shapes=True, show_layer_names=True)"
      ],
      "metadata": {
        "id": "b_Pq_5RRAa44"
      },
      "execution_count": null,
      "outputs": []
    },
    {
      "cell_type": "markdown",
      "source": [
        "## **CNN-LSTM**"
      ],
      "metadata": {
        "id": "3bIRh4MUAePr"
      }
    },
    {
      "cell_type": "code",
      "source": [
        "cnn_lstm_2= Sequential()\n",
        "cnn_lstm_2.add(Embedding(input_dim=vocab_size, output_dim=300, weights=[embedding_matrix], input_length=max_len3, trainable=False))\n",
        "cnn_lstm_2.add(Dropout(0.3))\n",
        "\n",
        "cnn_lstm_2.add(Conv1D(128, 5, activation='relu'))\n",
        "cnn_lstm_2.add(MaxPooling1D(pool_size=4))\n",
        "cnn_lstm_2.add(BatchNormalization())\n",
        "cnn_lstm_2.add(Dropout(0.3))\n",
        "\n",
        "cnn_lstm_2.add(LSTM(128))\n",
        "cnn_lstm_2.add(Dropout(0.3))\n",
        "\n",
        "cnn_lstm_2.add(Dense(1, activation='sigmoid'))\n",
        "\n",
        "# Compiling the model\n",
        "\n",
        "cnn_lstm_2.compile(optimizer='adam', loss='binary_crossentropy', metrics=['accuracy'])\n",
        "\n",
        "\n",
        "# Callbacks for Model Checkpoint and Early Stopping\n",
        "checkpoint2= ModelCheckpoint('/content/drive/MyDrive/model_03/cnn_lstm_1.h5', monitor='accuracy', save_best_only=True, mode='min')\n",
        "early_stopping2 = EarlyStopping(monitor='val_loss', patience=5, mode='min', restore_best_weights=True)\n",
        "\n",
        "cnn_lstm_2.summary()"
      ],
      "metadata": {
        "id": "QoGpX-F_AjpF"
      },
      "execution_count": null,
      "outputs": []
    },
    {
      "cell_type": "code",
      "source": [
        "history2 = cnn_lstm_2.fit(X_train, y_train, epochs=30, batch_size=128, validation_split=0.2, callbacks=[checkpoint2, early_stopping2],verbose=1)"
      ],
      "metadata": {
        "id": "xxyOeYBGApKn"
      },
      "execution_count": null,
      "outputs": []
    },
    {
      "cell_type": "code",
      "source": [
        "y_pred2 = (cnn_lstm_2.predict(X_test) > 0.5).astype(\"int32\")\n",
        "plot_model(cnn_lstm_2, to_file='model_plot.png', show_shapes=True, show_layer_names=True)"
      ],
      "metadata": {
        "id": "B8Ssm36YAraC"
      },
      "execution_count": null,
      "outputs": []
    },
    {
      "cell_type": "markdown",
      "source": [
        "## **CNN-BiLSTM**"
      ],
      "metadata": {
        "id": "NhE4YJuXAuTv"
      }
    },
    {
      "cell_type": "code",
      "source": [
        "cnn_lstm_6= Sequential()\n",
        "cnn_lstm_6.add(Embedding(input_dim=vocab_size, output_dim=300, weights=[embedding_matrix], input_length=max_len3, trainable=False))\n",
        "cnn_lstm_6.add(Dropout(0.3))\n",
        "\n",
        "cnn_lstm_6.add(Conv1D(filters=128, kernel_size=4, padding='same', activation='relu'))\n",
        "cnn_lstm_6.add(BatchNormalization())\n",
        "cnn_lstm_6.add(Dropout(0.3))\n",
        "cnn_lstm_6.add(MaxPooling1D(pool_size=3))\n",
        "\n",
        "#model.add(Bidirectional(LSTM(50, dropout=0.3, recurrent_dropout=0.2, return_sequences=True)))\n",
        "cnn_lstm_6.add(Bidirectional(LSTM(100)))\n",
        "cnn_lstm_6.add(Dropout(0.3))\n",
        "\n",
        "# Fully Connected Layer\n",
        "cnn_lstm_6.add(Dense(64, activation='relu'))\n",
        "cnn_lstm_6.add(Dropout(0.3))\n",
        "cnn_lstm_6.add(Dense(32, activation='relu'))\n",
        "cnn_lstm_6.add(Dropout(0.3))\n",
        "cnn_lstm_6.add(Dense(1, activation='sigmoid'))\n",
        "\n",
        "# Compiling the model\n",
        "\n",
        "cnn_lstm_6.compile(optimizer='adam', loss='binary_crossentropy', metrics=['accuracy'])\n",
        "\n",
        "\n",
        "# Callbacks for Model Checkpoint and Early Stopping\n",
        "checkpoint6= ModelCheckpoint('/content/drive/MyDrive/thesis_op/cnn_lstm/cnn_lstm_6.h5', monitor='accuracy', save_best_only=True, mode='min')\n",
        "early_stopping6 = EarlyStopping(monitor='val_loss', patience=5, mode='min', restore_best_weights=True)\n",
        "\n",
        "cnn_lstm_6.summary()"
      ],
      "metadata": {
        "id": "53EU1cbyAyOs"
      },
      "execution_count": null,
      "outputs": []
    },
    {
      "cell_type": "code",
      "source": [
        "history6 = cnn_lstm_6.fit(X_train, y_train, epochs=30, batch_size=128, validation_split=0.2, callbacks=[checkpoint6, early_stopping6],verbose=1)"
      ],
      "metadata": {
        "id": "50MRt8giBCJD"
      },
      "execution_count": null,
      "outputs": []
    },
    {
      "cell_type": "code",
      "source": [
        "y_pred6 = (cnn_lstm_6.predict(X_test) > 0.5).astype(\"int32\")\n",
        "plot_model(cnn_lstm_6, to_file='model_plot.png', show_shapes=True, show_layer_names=True)"
      ],
      "metadata": {
        "id": "wtxyCbTFBExZ"
      },
      "execution_count": null,
      "outputs": []
    }
  ]
}